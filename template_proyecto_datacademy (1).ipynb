{
 "cells": [
  {
   "cell_type": "markdown",
   "source": "# Análisis de los 25 retailers más grandes de Estados Unidos",
   "metadata": {
    "formattedRanges": [],
    "cell_id": "1df879a0-53cd-4031-a50b-2c2fe17304a4",
    "tags": [],
    "is_collapsed": false,
    "deepnote_cell_type": "text-cell-h1"
   }
  },
  {
   "cell_type": "code",
   "metadata": {
    "tags": [],
    "cell_id": "3347a937-91c3-4305-b06c-213bb2f3bcaf",
    "deepnote_to_be_reexecuted": false,
    "source_hash": "757ef1d",
    "execution_start": 1645847806045,
    "execution_millis": 4155,
    "deepnote_cell_type": "code",
    "deepnote_cell_height": 153
   },
   "source": "# Importar librerías aquí\nimport pandas as pd\nimport seaborn as sns\nimport numpy as np\nimport matplotlib as plt",
   "execution_count": null,
   "outputs": []
  },
  {
   "cell_type": "code",
   "metadata": {
    "cell_id": "081fdaf2-888a-4a54-9495-467464cfc400",
    "tags": [],
    "deepnote_to_be_reexecuted": false,
    "source_hash": "a68ac6f4",
    "execution_start": 1645847810220,
    "execution_millis": 167,
    "deepnote_table_state": {
     "pageSize": 10,
     "pageIndex": 0,
     "filters": [],
     "sortBy": []
    },
    "deepnote_table_loading": false,
    "owner_user_id": "714295c6-460a-4bfb-bfda-b7e1945e50ea",
    "deepnote_cell_type": "code",
    "deepnote_cell_height": 725
   },
   "source": "# Importar datos aquí\ndf = pd.read_csv('retail.csv')\ndf.head\ndf2 = df.dropna()\ndf2_sorted=df2.sort_values('Sales', ascending=0)\ndf2_sorted\n",
   "execution_count": null,
   "outputs": [
    {
     "output_type": "execute_result",
     "execution_count": 2,
     "data": {
      "application/vnd.deepnote.dataframe.v3+json": {
       "column_count": 6,
       "row_count": 23,
       "columns": [
        {
         "name": "Company",
         "dtype": "object",
         "stats": {
          "unique_count": 23,
          "nan_count": 0,
          "categories": [
           {
            "name": "Walmart US",
            "count": 1
           },
           {
            "name": "Kroger",
            "count": 1
           },
           {
            "name": "21 others",
            "count": 21
           }
          ]
         }
        },
        {
         "name": "Sales",
         "dtype": "int64",
         "stats": {
          "unique_count": 23,
          "nan_count": 0,
          "min": "16592",
          "max": "658119",
          "histogram": [
           {
            "bin_start": 16592,
            "bin_end": 80744.7,
            "count": 19
           },
           {
            "bin_start": 80744.7,
            "bin_end": 144897.4,
            "count": 3
           },
           {
            "bin_start": 144897.4,
            "bin_end": 209050.09999999998,
            "count": 0
           },
           {
            "bin_start": 209050.09999999998,
            "bin_end": 273202.8,
            "count": 0
           },
           {
            "bin_start": 273202.8,
            "bin_end": 337355.5,
            "count": 0
           },
           {
            "bin_start": 337355.5,
            "bin_end": 401508.19999999995,
            "count": 0
           },
           {
            "bin_start": 401508.19999999995,
            "bin_end": 465660.89999999997,
            "count": 0
           },
           {
            "bin_start": 465660.89999999997,
            "bin_end": 529813.6,
            "count": 0
           },
           {
            "bin_start": 529813.6,
            "bin_end": 593966.2999999999,
            "count": 0
           },
           {
            "bin_start": 593966.2999999999,
            "bin_end": 658119,
            "count": 1
           }
          ]
         }
        },
        {
         "name": "Stores",
         "dtype": "float64",
         "stats": {
          "unique_count": 23,
          "nan_count": 0,
          "min": "231.0",
          "max": "14250.0",
          "histogram": [
           {
            "bin_start": 231,
            "bin_end": 1632.9,
            "count": 10
           },
           {
            "bin_start": 1632.9,
            "bin_end": 3034.8,
            "count": 6
           },
           {
            "bin_start": 3034.8,
            "bin_end": 4436.700000000001,
            "count": 1
           },
           {
            "bin_start": 4436.700000000001,
            "bin_end": 5838.6,
            "count": 2
           },
           {
            "bin_start": 5838.6,
            "bin_end": 7240.5,
            "count": 0
           },
           {
            "bin_start": 7240.5,
            "bin_end": 8642.400000000001,
            "count": 1
           },
           {
            "bin_start": 8642.400000000001,
            "bin_end": 10044.300000000001,
            "count": 1
           },
           {
            "bin_start": 10044.300000000001,
            "bin_end": 11446.2,
            "count": 0
           },
           {
            "bin_start": 11446.2,
            "bin_end": 12848.1,
            "count": 0
           },
           {
            "bin_start": 12848.1,
            "bin_end": 14250,
            "count": 2
           }
          ]
         }
        },
        {
         "name": "Sales/Avg. Store",
         "dtype": "float64",
         "stats": {
          "unique_count": 23,
          "nan_count": 0,
          "min": "1.56391854",
          "max": "187.7956204",
          "histogram": [
           {
            "bin_start": 1.56391854,
            "bin_end": 20.187088726,
            "count": 9
           },
           {
            "bin_start": 20.187088726,
            "bin_end": 38.810258912,
            "count": 7
           },
           {
            "bin_start": 38.810258912,
            "bin_end": 57.433429098000005,
            "count": 2
           },
           {
            "bin_start": 57.433429098000005,
            "bin_end": 76.056599284,
            "count": 3
           },
           {
            "bin_start": 76.056599284,
            "bin_end": 94.67976947,
            "count": 1
           },
           {
            "bin_start": 94.67976947,
            "bin_end": 113.302939656,
            "count": 0
           },
           {
            "bin_start": 113.302939656,
            "bin_end": 131.926109842,
            "count": 0
           },
           {
            "bin_start": 131.926109842,
            "bin_end": 150.549280028,
            "count": 0
           },
           {
            "bin_start": 150.549280028,
            "bin_end": 169.172450214,
            "count": 0
           },
           {
            "bin_start": 169.172450214,
            "bin_end": 187.7956204,
            "count": 1
           }
          ]
         }
        },
        {
         "name": "Store Count Growth",
         "dtype": "float64",
         "stats": {
          "unique_count": 23,
          "nan_count": 0,
          "min": "-0.05951506245",
          "max": "0.2556621881",
          "histogram": [
           {
            "bin_start": -0.05951506245,
            "bin_end": -0.027997337395000002,
            "count": 3
           },
           {
            "bin_start": -0.027997337395000002,
            "bin_end": 0.003520387659999999,
            "count": 4
           },
           {
            "bin_start": 0.003520387659999999,
            "bin_end": 0.035038112715,
            "count": 6
           },
           {
            "bin_start": 0.035038112715,
            "bin_end": 0.06655583777,
            "count": 2
           },
           {
            "bin_start": 0.06655583777,
            "bin_end": 0.098073562825,
            "count": 5
           },
           {
            "bin_start": 0.098073562825,
            "bin_end": 0.12959128788000002,
            "count": 1
           },
           {
            "bin_start": 0.12959128788000002,
            "bin_end": 0.16110901293500002,
            "count": 1
           },
           {
            "bin_start": 0.16110901293500002,
            "bin_end": 0.19262673799000002,
            "count": 0
           },
           {
            "bin_start": 0.19262673799000002,
            "bin_end": 0.22414446304500002,
            "count": 0
           },
           {
            "bin_start": 0.22414446304500002,
            "bin_end": 0.2556621881,
            "count": 1
           }
          ]
         }
        },
        {
         "name": "Category",
         "dtype": "object",
         "stats": {
          "unique_count": 10,
          "nan_count": 0,
          "categories": [
           {
            "name": "Grocery",
            "count": 7
           },
           {
            "name": "Supercenters",
            "count": 3
           },
           {
            "name": "8 others",
            "count": 13
           }
          ]
         }
        },
        {
         "name": "_deepnote_index_column",
         "dtype": "int64"
        }
       ],
       "rows": [
        {
         "Company": "Walmart US",
         "Sales": 658119,
         "Stores": 4574,
         "Sales/Avg. Store": 65.64972497,
         "Store Count Growth": 0.01284322409,
         "Category": "Supercenters",
         "_deepnote_index_column": 0
        },
        {
         "Company": "Kroger",
         "Sales": 115037,
         "Stores": 3931,
         "Sales/Avg. Store": 30.03184963,
         "Store Count Growth": 0.05388739946,
         "Category": "Grocery",
         "_deepnote_index_column": 1
        },
        {
         "Company": "Costco",
         "Sales": 90048,
         "Stores": 495,
         "Sales/Avg. Store": 187.7956204,
         "Store Count Growth": 0.06681034483,
         "Category": "Warehouse Club",
         "_deepnote_index_column": 2
        },
        {
         "Company": "Home Depot",
         "Sales": 83976,
         "Stores": 1965,
         "Sales/Avg. Store": 42.73587786,
         "Store Count Growth": 0,
         "Category": "Home Improvement",
         "_deepnote_index_column": 3
        },
        {
         "Company": "Walgreen Boots",
         "Sales": 78924,
         "Stores": 8002,
         "Sales/Avg. Store": 9.81092672,
         "Store Count Growth": -0.01051069618,
         "Category": "Drug Stores",
         "_deepnote_index_column": 4
        },
        {
         "Company": "CVS incl. Target",
         "Sales": 77792,
         "Stores": 9813,
         "Sales/Avg. Store": 8.825958702,
         "Store Count Growth": 0.2556621881,
         "Category": "Drug Stores",
         "_deepnote_index_column": 5
        },
        {
         "Company": "Target",
         "Sales": 71208,
         "Stores": 1772,
         "Sales/Avg. Store": 39.98203257,
         "Store Count Growth": -0.01005586592,
         "Category": "Supercenters",
         "_deepnote_index_column": 7
        },
        {
         "Company": "Lowe's",
         "Sales": 60311,
         "Stores": 1828,
         "Sales/Avg. Store": 33.31179232,
         "Store Count Growth": 0.01952035694,
         "Category": "Home Improvement",
         "_deepnote_index_column": 8
        },
        {
         "Company": "Albertsons",
         "Sales": 56829,
         "Stores": 2326,
         "Sales/Avg. Store": 23.87773109,
         "Store Count Growth": -0.04437140509,
         "Category": "Grocery",
         "_deepnote_index_column": 9
        },
        {
         "Company": "Sam's Club",
         "Sales": 56828,
         "Stores": 655,
         "Sales/Avg. Store": 87.29339478,
         "Store Count Growth": 0.01236476043,
         "Category": "Warehouse Clubs",
         "_deepnote_index_column": 10
        }
       ]
      },
      "text/plain": "             Company   Sales   Stores  Sales/Avg. Store  Store Count Growth  \\\n0         Walmart US  658119   4574.0         65.649725            0.012843   \n1             Kroger  115037   3931.0         30.031850            0.053887   \n2             Costco   90048    495.0        187.795620            0.066810   \n3         Home Depot   83976   1965.0         42.735878            0.000000   \n4     Walgreen Boots   78924   8002.0          9.810927           -0.010511   \n5   CVS incl. Target   77792   9813.0          8.825959            0.255662   \n7             Target   71208   1772.0         39.982033           -0.010056   \n8             Lowe's   60311   1828.0         33.311792            0.019520   \n9         Albertsons   56829   2326.0         23.877731           -0.044371   \n10        Sam's Club   56828    655.0         87.293395            0.012365   \n12          Best Buy   34980   1389.0         24.685956           -0.038754   \n13            Publix   34408   1351.0         25.997733            0.042438   \n14          Rite Aid   27486   4553.0          6.025649           -0.003720   \n15             Ahold   26903    794.0         34.446863            0.033854   \n16            Macy's   26028    889.0         30.442105            0.082826   \n17               TJX   25012   2770.0          9.369545            0.078241   \n18              Aldi   24402   2021.0         12.715998            0.112273   \n19    Dollar General   22234  13350.0          1.768885            0.132412   \n20       Dollar Tree   21464  14250.0          1.563919            0.079627   \n21               HEB   21384    323.0         66.825000            0.018927   \n22            Kohl's   19060   1169.0         16.353496            0.006024   \n23          Delhaize   18201   1280.0         13.783415           -0.059515   \n24            Meijer   16592    231.0         74.738739            0.084507   \n\n             Category  \n0        Supercenters  \n1             Grocery  \n2      Warehouse Club  \n3    Home Improvement  \n4         Drug Stores  \n5         Drug Stores  \n7        Supercenters  \n8    Home Improvement  \n9             Grocery  \n10    Warehouse Clubs  \n12        Electronics  \n13            Grocery  \n14        Drug Stores  \n15            Grocery  \n16  Department Stores  \n17            Apparel  \n18            Grocery  \n19      Dollar Stores  \n20      Dollar Stores  \n21            Grocery  \n22  Department Stores  \n23            Grocery  \n24       Supercenters  ",
      "text/html": "<div>\n<style scoped>\n    .dataframe tbody tr th:only-of-type {\n        vertical-align: middle;\n    }\n\n    .dataframe tbody tr th {\n        vertical-align: top;\n    }\n\n    .dataframe thead th {\n        text-align: right;\n    }\n</style>\n<table border=\"1\" class=\"dataframe\">\n  <thead>\n    <tr style=\"text-align: right;\">\n      <th></th>\n      <th>Company</th>\n      <th>Sales</th>\n      <th>Stores</th>\n      <th>Sales/Avg. Store</th>\n      <th>Store Count Growth</th>\n      <th>Category</th>\n    </tr>\n  </thead>\n  <tbody>\n    <tr>\n      <th>0</th>\n      <td>Walmart US</td>\n      <td>658119</td>\n      <td>4574.0</td>\n      <td>65.649725</td>\n      <td>0.012843</td>\n      <td>Supercenters</td>\n    </tr>\n    <tr>\n      <th>1</th>\n      <td>Kroger</td>\n      <td>115037</td>\n      <td>3931.0</td>\n      <td>30.031850</td>\n      <td>0.053887</td>\n      <td>Grocery</td>\n    </tr>\n    <tr>\n      <th>2</th>\n      <td>Costco</td>\n      <td>90048</td>\n      <td>495.0</td>\n      <td>187.795620</td>\n      <td>0.066810</td>\n      <td>Warehouse Club</td>\n    </tr>\n    <tr>\n      <th>3</th>\n      <td>Home Depot</td>\n      <td>83976</td>\n      <td>1965.0</td>\n      <td>42.735878</td>\n      <td>0.000000</td>\n      <td>Home Improvement</td>\n    </tr>\n    <tr>\n      <th>4</th>\n      <td>Walgreen Boots</td>\n      <td>78924</td>\n      <td>8002.0</td>\n      <td>9.810927</td>\n      <td>-0.010511</td>\n      <td>Drug Stores</td>\n    </tr>\n    <tr>\n      <th>5</th>\n      <td>CVS incl. Target</td>\n      <td>77792</td>\n      <td>9813.0</td>\n      <td>8.825959</td>\n      <td>0.255662</td>\n      <td>Drug Stores</td>\n    </tr>\n    <tr>\n      <th>7</th>\n      <td>Target</td>\n      <td>71208</td>\n      <td>1772.0</td>\n      <td>39.982033</td>\n      <td>-0.010056</td>\n      <td>Supercenters</td>\n    </tr>\n    <tr>\n      <th>8</th>\n      <td>Lowe's</td>\n      <td>60311</td>\n      <td>1828.0</td>\n      <td>33.311792</td>\n      <td>0.019520</td>\n      <td>Home Improvement</td>\n    </tr>\n    <tr>\n      <th>9</th>\n      <td>Albertsons</td>\n      <td>56829</td>\n      <td>2326.0</td>\n      <td>23.877731</td>\n      <td>-0.044371</td>\n      <td>Grocery</td>\n    </tr>\n    <tr>\n      <th>10</th>\n      <td>Sam's Club</td>\n      <td>56828</td>\n      <td>655.0</td>\n      <td>87.293395</td>\n      <td>0.012365</td>\n      <td>Warehouse Clubs</td>\n    </tr>\n    <tr>\n      <th>12</th>\n      <td>Best Buy</td>\n      <td>34980</td>\n      <td>1389.0</td>\n      <td>24.685956</td>\n      <td>-0.038754</td>\n      <td>Electronics</td>\n    </tr>\n    <tr>\n      <th>13</th>\n      <td>Publix</td>\n      <td>34408</td>\n      <td>1351.0</td>\n      <td>25.997733</td>\n      <td>0.042438</td>\n      <td>Grocery</td>\n    </tr>\n    <tr>\n      <th>14</th>\n      <td>Rite Aid</td>\n      <td>27486</td>\n      <td>4553.0</td>\n      <td>6.025649</td>\n      <td>-0.003720</td>\n      <td>Drug Stores</td>\n    </tr>\n    <tr>\n      <th>15</th>\n      <td>Ahold</td>\n      <td>26903</td>\n      <td>794.0</td>\n      <td>34.446863</td>\n      <td>0.033854</td>\n      <td>Grocery</td>\n    </tr>\n    <tr>\n      <th>16</th>\n      <td>Macy's</td>\n      <td>26028</td>\n      <td>889.0</td>\n      <td>30.442105</td>\n      <td>0.082826</td>\n      <td>Department Stores</td>\n    </tr>\n    <tr>\n      <th>17</th>\n      <td>TJX</td>\n      <td>25012</td>\n      <td>2770.0</td>\n      <td>9.369545</td>\n      <td>0.078241</td>\n      <td>Apparel</td>\n    </tr>\n    <tr>\n      <th>18</th>\n      <td>Aldi</td>\n      <td>24402</td>\n      <td>2021.0</td>\n      <td>12.715998</td>\n      <td>0.112273</td>\n      <td>Grocery</td>\n    </tr>\n    <tr>\n      <th>19</th>\n      <td>Dollar General</td>\n      <td>22234</td>\n      <td>13350.0</td>\n      <td>1.768885</td>\n      <td>0.132412</td>\n      <td>Dollar Stores</td>\n    </tr>\n    <tr>\n      <th>20</th>\n      <td>Dollar Tree</td>\n      <td>21464</td>\n      <td>14250.0</td>\n      <td>1.563919</td>\n      <td>0.079627</td>\n      <td>Dollar Stores</td>\n    </tr>\n    <tr>\n      <th>21</th>\n      <td>HEB</td>\n      <td>21384</td>\n      <td>323.0</td>\n      <td>66.825000</td>\n      <td>0.018927</td>\n      <td>Grocery</td>\n    </tr>\n    <tr>\n      <th>22</th>\n      <td>Kohl's</td>\n      <td>19060</td>\n      <td>1169.0</td>\n      <td>16.353496</td>\n      <td>0.006024</td>\n      <td>Department Stores</td>\n    </tr>\n    <tr>\n      <th>23</th>\n      <td>Delhaize</td>\n      <td>18201</td>\n      <td>1280.0</td>\n      <td>13.783415</td>\n      <td>-0.059515</td>\n      <td>Grocery</td>\n    </tr>\n    <tr>\n      <th>24</th>\n      <td>Meijer</td>\n      <td>16592</td>\n      <td>231.0</td>\n      <td>74.738739</td>\n      <td>0.084507</td>\n      <td>Supercenters</td>\n    </tr>\n  </tbody>\n</table>\n</div>"
     },
     "metadata": {}
    }
   ]
  },
  {
   "cell_type": "code",
   "source": "",
   "metadata": {
    "cell_id": "cd0cefbec1b4494db570cbd5824084d8",
    "deepnote_cell_type": "visualization"
   },
   "execution_count": null,
   "outputs": []
  },
  {
   "cell_type": "markdown",
   "source": "## I. Preguntas del negocio",
   "metadata": {
    "formattedRanges": [],
    "cell_id": "cc141631-e246-41c7-a56b-ad74255d674f",
    "tags": [],
    "is_collapsed": false,
    "deepnote_cell_type": "text-cell-h2"
   }
  },
  {
   "cell_type": "markdown",
   "source": "### 1. ¿Cuál es el promedio de ventas sin contar a la compañía dominante?",
   "metadata": {
    "cell_id": "b919b92e-0df3-4f54-b093-c1db040bc4aa",
    "tags": [],
    "deepnote_cell_type": "markdown",
    "deepnote_cell_height": 94
   }
  },
  {
   "cell_type": "code",
   "metadata": {
    "cell_id": "116fe175-2478-4e9e-874f-35f55d387fb0",
    "tags": [],
    "deepnote_to_be_reexecuted": false,
    "source_hash": "5a4022ca",
    "execution_start": 1645848046547,
    "execution_millis": 2,
    "deepnote_table_state": {
     "pageSize": 10,
     "pageIndex": 0,
     "filters": [],
     "sortBy": []
    },
    "deepnote_table_loading": false,
    "deepnote_cell_type": "code",
    "deepnote_cell_height": 595.5,
    "deepnote_output_heights": [
     462.5
    ]
   },
   "source": "Sales_mean = df2[\"Sales\"].mean\nSales_mean\n",
   "execution_count": null,
   "outputs": [
    {
     "output_type": "execute_result",
     "execution_count": 17,
     "data": {
      "text/plain": "<bound method NDFrame._add_numeric_operations.<locals>.mean of 0     658119\n1     115037\n2      90048\n3      83976\n4      78924\n5      77792\n7      71208\n8      60311\n9      56829\n10     56828\n12     34980\n13     34408\n14     27486\n15     26903\n16     26028\n17     25012\n18     24402\n19     22234\n20     21464\n21     21384\n22     19060\n23     18201\n24     16592\nName: Sales, dtype: int64>"
     },
     "metadata": {}
    }
   ]
  },
  {
   "cell_type": "markdown",
   "source": "### 2. ¿Cuánto dinero en ventas generó la mayoría de las compañías?",
   "metadata": {
    "cell_id": "1814847a-365e-4bae-9fb9-6bed9b874b37",
    "tags": [],
    "deepnote_cell_type": "markdown",
    "deepnote_cell_height": 62
   }
  },
  {
   "cell_type": "code",
   "metadata": {
    "cell_id": "7c7057cc-813b-4f93-8826-caed6cc738f9",
    "tags": [],
    "deepnote_to_be_reexecuted": false,
    "source_hash": "174ea2eb",
    "execution_start": 1645847810459,
    "execution_millis": 427,
    "deepnote_cell_type": "code",
    "deepnote_cell_height": 415.1875,
    "deepnote_output_heights": [
     21.1875,
     266
    ]
   },
   "source": "df2.hist(\"Sales\")",
   "execution_count": null,
   "outputs": [
    {
     "output_type": "execute_result",
     "execution_count": 4,
     "data": {
      "text/plain": "array([[<AxesSubplot:title={'center':'Sales'}>]], dtype=object)"
     },
     "metadata": {}
    },
    {
     "data": {
      "text/plain": "<Figure size 432x288 with 1 Axes>",
      "image/png": "[encoded data removed]"
     },
     "metadata": {
      "needs_background": "light",
      "image/png": {
       "width": 378,
       "height": 264
      }
     },
     "output_type": "display_data"
    }
   ]
  },
  {
   "cell_type": "markdown",
   "source": "Observamos que la mayoria de las companias realizaron ventas de $100000 USD",
   "metadata": {
    "formattedRanges": [],
    "cell_id": "a29a66cb-7b95-48a2-984b-16c2d5e000a5",
    "tags": [],
    "is_collapsed": false,
    "deepnote_cell_type": "text-cell-p"
   }
  },
  {
   "cell_type": "markdown",
   "source": "### 3. ¿Cuántas tiendas tiene la mayoría de las compañías?",
   "metadata": {
    "cell_id": "9801295a-a27d-48af-ae87-c653cabd8f67",
    "tags": [],
    "deepnote_cell_type": "markdown",
    "deepnote_cell_height": 62
   }
  },
  {
   "cell_type": "code",
   "metadata": {
    "cell_id": "cfcc2261-f6a1-44d8-b8fa-184eec2a77ff",
    "tags": [],
    "deepnote_to_be_reexecuted": false,
    "source_hash": "fe479971",
    "execution_start": 1645847810896,
    "execution_millis": 421,
    "deepnote_cell_type": "code",
    "deepnote_cell_height": 415.1875,
    "deepnote_output_heights": [
     21.1875,
     266
    ]
   },
   "source": "df2.hist(\"Stores\")",
   "execution_count": null,
   "outputs": [
    {
     "output_type": "execute_result",
     "execution_count": 5,
     "data": {
      "text/plain": "array([[<AxesSubplot:title={'center':'Stores'}>]], dtype=object)"
     },
     "metadata": {}
    },
    {
     "data": {
      "text/plain": "<Figure size 432x288 with 1 Axes>",
      "image/png": "[encoded data removed]"
     },
     "metadata": {
      "needs_background": "light",
      "image/png": {
       "width": 368,
       "height": 264
      }
     },
     "output_type": "display_data"
    }
   ]
  },
  {
   "cell_type": "markdown",
   "source": "Aqui observamos que la mayoria de las companias tienen al rededor de 2000 tiendas",
   "metadata": {
    "formattedRanges": [],
    "cell_id": "73df22f6-fa59-4cfd-913d-62624d3aeb05",
    "tags": [],
    "is_collapsed": false,
    "deepnote_cell_type": "text-cell-p"
   }
  },
  {
   "cell_type": "markdown",
   "source": "### 4. ¿La cantidad de tiendas está relacionada con la cantidad de ventas? Es decir, ¿si una empresa tiene más tiendas tendrá más dinero de ventas?",
   "metadata": {
    "cell_id": "c9b5de28-cd12-4088-9bc0-93df660401f3",
    "tags": [],
    "deepnote_cell_type": "markdown",
    "deepnote_cell_height": 126
   }
  },
  {
   "cell_type": "code",
   "metadata": {
    "cell_id": "576a374c-550d-4df9-bf82-2c5617c48f50",
    "tags": [],
    "deepnote_to_be_reexecuted": false,
    "source_hash": "229d343f",
    "execution_start": 1645847811323,
    "execution_millis": 429,
    "deepnote_cell_type": "code",
    "deepnote_cell_height": 431.1875,
    "deepnote_output_heights": [
     21.1875,
     264
    ]
   },
   "source": "sns.scatterplot(data=df2, x= \"Stores\", y=\"Sales\")\n",
   "execution_count": null,
   "outputs": [
    {
     "output_type": "execute_result",
     "execution_count": 6,
     "data": {
      "text/plain": "<AxesSubplot:xlabel='Stores', ylabel='Sales'>"
     },
     "metadata": {}
    },
    {
     "data": {
      "text/plain": "<Figure size 432x288 with 1 Axes>",
      "image/png": "[encoded data removed]"
     },
     "metadata": {
      "needs_background": "light",
      "image/png": {
       "width": 407,
       "height": 262
      }
     },
     "output_type": "display_data"
    }
   ]
  },
  {
   "cell_type": "markdown",
   "source": "En conclusión vemos que sí hay una relacion directa entre el numero de tiendas y la cantidad de ventas, es de resaltar la diferencia que marca Walmart que solo con poco más de cuatro mil tiendas genera ventas que superan ampliamente las de sus competidores",
   "metadata": {
    "formattedRanges": [],
    "cell_id": "a3b4bbcf-9039-49af-bbaf-61040aee0eb1",
    "tags": [],
    "is_collapsed": false,
    "deepnote_cell_type": "text-cell-p"
   }
  },
  {
   "cell_type": "markdown",
   "source": "### 5. ¿Cuál es el rango que existe entre las ventas?",
   "metadata": {
    "cell_id": "d296130b-b739-4424-8c5d-8dc8b6fc8ee5",
    "tags": [],
    "deepnote_cell_type": "markdown",
    "deepnote_cell_height": 62
   }
  },
  {
   "cell_type": "code",
   "metadata": {
    "cell_id": "277da6f7-0300-4156-91e5-9765eb1f3752",
    "tags": [],
    "deepnote_to_be_reexecuted": false,
    "source_hash": "412f0104",
    "execution_start": 1645847811757,
    "execution_millis": 20,
    "deepnote_cell_type": "code",
    "deepnote_cell_height": 136.1875,
    "deepnote_output_heights": [
     21.1875
    ]
   },
   "source": "range = df2[\"Sales\"].max() - df2[\"Sales\"].min()\nrange",
   "execution_count": null,
   "outputs": [
    {
     "output_type": "execute_result",
     "execution_count": 7,
     "data": {
      "text/plain": "641527"
     },
     "metadata": {}
    }
   ]
  },
  {
   "cell_type": "markdown",
   "source": "El rango entre las ventas es de 641527",
   "metadata": {
    "formattedRanges": [],
    "cell_id": "f2de4aa0-18e1-48fe-8189-14b0c4dbe2e0",
    "tags": [],
    "is_collapsed": false,
    "deepnote_cell_type": "text-cell-p"
   }
  },
  {
   "cell_type": "markdown",
   "source": "### 6. ¿Cuáles son las 5 empresas que más tiendas físicas tienen? ¿Cuáles de ellas están dentro de las 5 empresas que más ventas tuvieron?",
   "metadata": {
    "cell_id": "6c36ddc3-51ef-4017-a6f9-06cbb8b970e4",
    "tags": [],
    "deepnote_cell_type": "markdown",
    "deepnote_cell_height": 126
   }
  },
  {
   "cell_type": "code",
   "metadata": {
    "cell_id": "1295319d-09d0-42f0-9de0-ff0e689f400f",
    "tags": [],
    "deepnote_to_be_reexecuted": false,
    "source_hash": "542794cb",
    "execution_start": 1645847811786,
    "execution_millis": 499,
    "deepnote_cell_type": "code",
    "deepnote_cell_height": 537.5625,
    "deepnote_output_heights": [
     null,
     21.1875,
     264
    ]
   },
   "source": "x = df2_sorted['Stores'][0:5] #Aplicamos slicing como en una lista de Python.\ny = df2_sorted['Sales'][0:5]\n\nsns.barplot(x,y) ",
   "execution_count": null,
   "outputs": [
    {
     "name": "stderr",
     "text": "/shared-libs/python3.7/py/lib/python3.7/site-packages/seaborn/_decorators.py:43: FutureWarning: Pass the following variables as keyword args: x, y. From version 0.12, the only valid positional argument will be `data`, and passing other arguments without an explicit keyword will result in an error or misinterpretation.\n  FutureWarning\n",
     "output_type": "stream"
    },
    {
     "output_type": "execute_result",
     "execution_count": 8,
     "data": {
      "text/plain": "<AxesSubplot:xlabel='Stores', ylabel='Sales'>"
     },
     "metadata": {}
    },
    {
     "data": {
      "text/plain": "<Figure size 432x288 with 1 Axes>",
      "image/png": "[encoded data removed]"
     },
     "metadata": {
      "needs_background": "light",
      "image/png": {
       "width": 407,
       "height": 262
      }
     },
     "output_type": "display_data"
    }
   ]
  },
  {
   "cell_type": "markdown",
   "source": "## II. Preguntas opcionales",
   "metadata": {
    "cell_id": "7d1d5db9-ad1d-4081-968b-bea1357e236a",
    "tags": [],
    "deepnote_cell_type": "markdown",
    "deepnote_cell_height": 70
   }
  },
  {
   "cell_type": "markdown",
   "source": "### 7. ¿Qué categoría de compañía generó más ventas?",
   "metadata": {
    "cell_id": "27e5ddcb-8674-4809-844e-8c3442430be1",
    "tags": [],
    "deepnote_cell_type": "markdown",
    "deepnote_cell_height": 62
   }
  },
  {
   "cell_type": "code",
   "metadata": {
    "cell_id": "fcc0ff72-f954-4023-b187-f43c7ecc77ce",
    "tags": [],
    "deepnote_to_be_reexecuted": false,
    "source_hash": "206ff076",
    "execution_start": 1645847812176,
    "execution_millis": 112,
    "deepnote_cell_type": "code",
    "deepnote_cell_height": 636
   },
   "source": "df2.groupby([\"Category\"]).sum().sort_values(\"Sales\", ascending=False)\n\n",
   "execution_count": null,
   "outputs": [
    {
     "output_type": "execute_result",
     "execution_count": 9,
     "data": {
      "application/vnd.deepnote.dataframe.v3+json": {
       "column_count": 4,
       "row_count": 10,
       "columns": [
        {
         "name": "Sales",
         "dtype": "int64",
         "stats": {
          "unique_count": 10,
          "nan_count": 0,
          "min": "25012",
          "max": "745919",
          "histogram": [
           {
            "bin_start": 25012,
            "bin_end": 97102.7,
            "count": 6
           },
           {
            "bin_start": 97102.7,
            "bin_end": 169193.4,
            "count": 1
           },
           {
            "bin_start": 169193.4,
            "bin_end": 241284.09999999998,
            "count": 1
           },
           {
            "bin_start": 241284.09999999998,
            "bin_end": 313374.8,
            "count": 1
           },
           {
            "bin_start": 313374.8,
            "bin_end": 385465.5,
            "count": 0
           },
           {
            "bin_start": 385465.5,
            "bin_end": 457556.19999999995,
            "count": 0
           },
           {
            "bin_start": 457556.19999999995,
            "bin_end": 529646.8999999999,
            "count": 0
           },
           {
            "bin_start": 529646.8999999999,
            "bin_end": 601737.6,
            "count": 0
           },
           {
            "bin_start": 601737.6,
            "bin_end": 673828.2999999999,
            "count": 0
           },
           {
            "bin_start": 673828.2999999999,
            "bin_end": 745919,
            "count": 1
           }
          ]
         }
        },
        {
         "name": "Stores",
         "dtype": "float64",
         "stats": {
          "unique_count": 10,
          "nan_count": 0,
          "min": "495.0",
          "max": "27600.0",
          "histogram": [
           {
            "bin_start": 495,
            "bin_end": 3205.5,
            "count": 5
           },
           {
            "bin_start": 3205.5,
            "bin_end": 5916,
            "count": 1
           },
           {
            "bin_start": 5916,
            "bin_end": 8626.5,
            "count": 1
           },
           {
            "bin_start": 8626.5,
            "bin_end": 11337,
            "count": 0
           },
           {
            "bin_start": 11337,
            "bin_end": 14047.5,
            "count": 1
           },
           {
            "bin_start": 14047.5,
            "bin_end": 16758,
            "count": 0
           },
           {
            "bin_start": 16758,
            "bin_end": 19468.5,
            "count": 0
           },
           {
            "bin_start": 19468.5,
            "bin_end": 22179,
            "count": 0
           },
           {
            "bin_start": 22179,
            "bin_end": 24889.5,
            "count": 1
           },
           {
            "bin_start": 24889.5,
            "bin_end": 27600,
            "count": 1
           }
          ]
         }
        },
        {
         "name": "Sales/Avg. Store",
         "dtype": "float64",
         "stats": {
          "unique_count": 10,
          "nan_count": 0,
          "min": "3.332803539",
          "max": "207.67859029",
          "histogram": [
           {
            "bin_start": 3.332803539,
            "bin_end": 23.7673822141,
            "count": 2
           },
           {
            "bin_start": 23.7673822141,
            "bin_end": 44.201960889199995,
            "count": 2
           },
           {
            "bin_start": 44.201960889199995,
            "bin_end": 64.6365395643,
            "count": 1
           },
           {
            "bin_start": 64.6365395643,
            "bin_end": 85.0711182394,
            "count": 1
           },
           {
            "bin_start": 85.0711182394,
            "bin_end": 105.50569691449999,
            "count": 1
           },
           {
            "bin_start": 105.50569691449999,
            "bin_end": 125.94027558959999,
            "count": 0
           },
           {
            "bin_start": 125.94027558959999,
            "bin_end": 146.3748542647,
            "count": 0
           },
           {
            "bin_start": 146.3748542647,
            "bin_end": 166.8094329398,
            "count": 0
           },
           {
            "bin_start": 166.8094329398,
            "bin_end": 187.2440116149,
            "count": 1
           },
           {
            "bin_start": 187.2440116149,
            "bin_end": 207.67859029,
            "count": 2
           }
          ]
         }
        },
        {
         "name": "Store Count Growth",
         "dtype": "float64",
         "stats": {
          "unique_count": 10,
          "nan_count": 0,
          "min": "-0.03875432526",
          "max": "0.24143157944700003",
          "histogram": [
           {
            "bin_start": -0.03875432526,
            "bin_end": -0.0107357347893,
            "count": 1
           },
           {
            "bin_start": -0.0107357347893,
            "bin_end": 0.0172828556814,
            "count": 1
           },
           {
            "bin_start": 0.0172828556814,
            "bin_end": 0.045301446152099994,
            "count": 1
           },
           {
            "bin_start": 0.045301446152099994,
            "bin_end": 0.0733200366228,
            "count": 1
           },
           {
            "bin_start": 0.0733200366228,
            "bin_end": 0.1013386270935,
            "count": 3
           },
           {
            "bin_start": 0.1013386270935,
            "bin_end": 0.1293572175642,
            "count": 0
           },
           {
            "bin_start": 0.1293572175642,
            "bin_end": 0.1573758080349,
            "count": 0
           },
           {
            "bin_start": 0.1573758080349,
            "bin_end": 0.1853943985056,
            "count": 1
           },
           {
            "bin_start": 0.1853943985056,
            "bin_end": 0.2134129889763,
            "count": 1
           },
           {
            "bin_start": 0.2134129889763,
            "bin_end": 0.24143157944700003,
            "count": 1
           }
          ]
         }
        },
        {
         "name": "_deepnote_index_column",
         "dtype": "object"
        }
       ],
       "rows": [
        {
         "Sales": 745919,
         "Stores": 6577,
         "Sales/Avg. Store": 180.37049628,
         "Store Count Growth": 0.08729440042,
         "_deepnote_index_column": "Supercenters"
        },
        {
         "Sales": 297164,
         "Stores": 12026,
         "Sales/Avg. Store": 207.67859029,
         "Store Count Growth": 0.15749379238,
         "_deepnote_index_column": "Grocery"
        },
        {
         "Sales": 184202,
         "Stores": 22368,
         "Sales/Avg. Store": 24.662534879,
         "Store Count Growth": 0.24143157944700003,
         "_deepnote_index_column": "Drug Stores"
        },
        {
         "Sales": 144287,
         "Stores": 3793,
         "Sales/Avg. Store": 76.04767018000001,
         "Store Count Growth": 0.01952035694,
         "_deepnote_index_column": "Home Improvement"
        },
        {
         "Sales": 90048,
         "Stores": 495,
         "Sales/Avg. Store": 187.7956204,
         "Store Count Growth": 0.06681034483,
         "_deepnote_index_column": "Warehouse Club"
        },
        {
         "Sales": 56828,
         "Stores": 655,
         "Sales/Avg. Store": 87.29339478,
         "Store Count Growth": 0.01236476043,
         "_deepnote_index_column": "Warehouse Clubs"
        },
        {
         "Sales": 45088,
         "Stores": 2058,
         "Sales/Avg. Store": 46.795601610000006,
         "Store Count Growth": 0.088849918556,
         "_deepnote_index_column": "Department Stores"
        },
        {
         "Sales": 43698,
         "Stores": 27600,
         "Sales/Avg. Store": 3.332803539,
         "Store Count Growth": 0.21203881458999999,
         "_deepnote_index_column": "Dollar Stores"
        },
        {
         "Sales": 34980,
         "Stores": 1389,
         "Sales/Avg. Store": 24.68595625,
         "Store Count Growth": -0.03875432526,
         "_deepnote_index_column": "Electronics"
        },
        {
         "Sales": 25012,
         "Stores": 2770,
         "Sales/Avg. Store": 9.369544859,
         "Store Count Growth": 0.07824056053,
         "_deepnote_index_column": "Apparel"
        }
       ]
      },
      "text/plain": "                    Sales   Stores  Sales/Avg. Store  Store Count Growth\nCategory                                                                \nSupercenters       745919   6577.0        180.370496            0.087294\nGrocery            297164  12026.0        207.678590            0.157494\nDrug Stores        184202  22368.0         24.662535            0.241432\nHome Improvement   144287   3793.0         76.047670            0.019520\nWarehouse Club      90048    495.0        187.795620            0.066810\nWarehouse Clubs     56828    655.0         87.293395            0.012365\nDepartment Stores   45088   2058.0         46.795602            0.088850\nDollar Stores       43698  27600.0          3.332804            0.212039\nElectronics         34980   1389.0         24.685956           -0.038754\nApparel             25012   2770.0          9.369545            0.078241",
      "text/html": "<div>\n<style scoped>\n    .dataframe tbody tr th:only-of-type {\n        vertical-align: middle;\n    }\n\n    .dataframe tbody tr th {\n        vertical-align: top;\n    }\n\n    .dataframe thead th {\n        text-align: right;\n    }\n</style>\n<table border=\"1\" class=\"dataframe\">\n  <thead>\n    <tr style=\"text-align: right;\">\n      <th></th>\n      <th>Sales</th>\n      <th>Stores</th>\n      <th>Sales/Avg. Store</th>\n      <th>Store Count Growth</th>\n    </tr>\n    <tr>\n      <th>Category</th>\n      <th></th>\n      <th></th>\n      <th></th>\n      <th></th>\n    </tr>\n  </thead>\n  <tbody>\n    <tr>\n      <th>Supercenters</th>\n      <td>745919</td>\n      <td>6577.0</td>\n      <td>180.370496</td>\n      <td>0.087294</td>\n    </tr>\n    <tr>\n      <th>Grocery</th>\n      <td>297164</td>\n      <td>12026.0</td>\n      <td>207.678590</td>\n      <td>0.157494</td>\n    </tr>\n    <tr>\n      <th>Drug Stores</th>\n      <td>184202</td>\n      <td>22368.0</td>\n      <td>24.662535</td>\n      <td>0.241432</td>\n    </tr>\n    <tr>\n      <th>Home Improvement</th>\n      <td>144287</td>\n      <td>3793.0</td>\n      <td>76.047670</td>\n      <td>0.019520</td>\n    </tr>\n    <tr>\n      <th>Warehouse Club</th>\n      <td>90048</td>\n      <td>495.0</td>\n      <td>187.795620</td>\n      <td>0.066810</td>\n    </tr>\n    <tr>\n      <th>Warehouse Clubs</th>\n      <td>56828</td>\n      <td>655.0</td>\n      <td>87.293395</td>\n      <td>0.012365</td>\n    </tr>\n    <tr>\n      <th>Department Stores</th>\n      <td>45088</td>\n      <td>2058.0</td>\n      <td>46.795602</td>\n      <td>0.088850</td>\n    </tr>\n    <tr>\n      <th>Dollar Stores</th>\n      <td>43698</td>\n      <td>27600.0</td>\n      <td>3.332804</td>\n      <td>0.212039</td>\n    </tr>\n    <tr>\n      <th>Electronics</th>\n      <td>34980</td>\n      <td>1389.0</td>\n      <td>24.685956</td>\n      <td>-0.038754</td>\n    </tr>\n    <tr>\n      <th>Apparel</th>\n      <td>25012</td>\n      <td>2770.0</td>\n      <td>9.369545</td>\n      <td>0.078241</td>\n    </tr>\n  </tbody>\n</table>\n</div>"
     },
     "metadata": {}
    }
   ]
  },
  {
   "cell_type": "markdown",
   "source": "Obtenemos que la categoria que mas vende son los groceries",
   "metadata": {
    "formattedRanges": [],
    "cell_id": "3efaa1a8-96c0-4ef9-a814-1456b44b1072",
    "tags": [],
    "is_collapsed": false,
    "deepnote_cell_type": "text-cell-p"
   }
  },
  {
   "cell_type": "markdown",
   "source": "### 8. ¿Cuál es la compañía que en relación con su cantidad de tiendas físicas genera más ventas?",
   "metadata": {
    "cell_id": "33668883-9f01-485c-bdf9-822cd13ad952",
    "tags": [],
    "deepnote_cell_type": "markdown",
    "deepnote_cell_height": 94
   }
  },
  {
   "cell_type": "code",
   "metadata": {
    "cell_id": "903008ff-c22d-431e-8130-a954a94b16e8",
    "tags": [],
    "deepnote_to_be_reexecuted": false,
    "source_hash": "229d343f",
    "execution_start": 1645847981597,
    "execution_millis": 394,
    "deepnote_cell_type": "code",
    "deepnote_cell_height": 431.1875,
    "deepnote_output_heights": [
     21.1875,
     264
    ]
   },
   "source": "sns.scatterplot(data=df2, x= \"Stores\", y=\"Sales\")\n",
   "execution_count": null,
   "outputs": [
    {
     "output_type": "execute_result",
     "execution_count": 16,
     "data": {
      "text/plain": "<AxesSubplot:xlabel='Stores', ylabel='Sales'>"
     },
     "metadata": {}
    },
    {
     "data": {
      "text/plain": "<Figure size 432x288 with 1 Axes>",
      "image/png": "[encoded data removed]"
     },
     "metadata": {
      "needs_background": "light",
      "image/png": {
       "width": 407,
       "height": 262
      }
     },
     "output_type": "display_data"
    }
   ]
  },
  {
   "cell_type": "markdown",
   "source": "Sin duda alguna es Waltmart",
   "metadata": {
    "formattedRanges": [],
    "cell_id": "4d482f8d-54a9-400b-9e66-a07032ca299d",
    "tags": [],
    "is_collapsed": false,
    "deepnote_cell_type": "text-cell-p"
   }
  },
  {
   "cell_type": "markdown",
   "source": "### 9. ¿Cuáles compañías venden de forma exclusivamente online? ¿Sus ventas destacan sobre las que también tienen tiendas físicas?",
   "metadata": {
    "cell_id": "e9a00ffe-de8a-41f0-98e7-67b905d0d14f",
    "tags": [],
    "deepnote_cell_type": "markdown",
    "deepnote_cell_height": 94
   }
  },
  {
   "cell_type": "code",
   "metadata": {
    "cell_id": "cb6d5d30-783d-44af-9c84-f31689cb3487",
    "tags": [],
    "deepnote_to_be_reexecuted": false,
    "source_hash": "b623e53d",
    "execution_start": 1645847812724,
    "execution_millis": 8,
    "deepnote_cell_type": "code",
    "deepnote_cell_height": 81
   },
   "source": "",
   "execution_count": null,
   "outputs": []
  },
  {
   "cell_type": "markdown",
   "source": "## III. Tus propias preguntas",
   "metadata": {
    "cell_id": "58c80612-3fb2-4c71-9aab-813b121430a0",
    "tags": [],
    "deepnote_cell_type": "markdown",
    "deepnote_cell_height": 70
   }
  },
  {
   "cell_type": "markdown",
   "source": "### 10. Pregunta",
   "metadata": {
    "cell_id": "fa60966b-7d95-43f0-9a1e-201f1373f1be",
    "tags": [],
    "deepnote_cell_type": "markdown",
    "deepnote_cell_height": 62
   }
  },
  {
   "cell_type": "code",
   "metadata": {
    "cell_id": "52ea290f-004f-4aaa-8e1a-0d0908996b0a",
    "tags": [],
    "deepnote_to_be_reexecuted": false,
    "source_hash": "b623e53d",
    "execution_start": 1645847812744,
    "execution_millis": 1,
    "deepnote_cell_type": "code",
    "deepnote_cell_height": 81
   },
   "source": "",
   "execution_count": null,
   "outputs": []
  },
  {
   "cell_type": "markdown",
   "source": "### 11. Pregunta",
   "metadata": {
    "cell_id": "83e0e566-969d-4872-b32d-915ac945a370",
    "tags": [],
    "deepnote_cell_type": "markdown",
    "deepnote_cell_height": 62
   }
  },
  {
   "cell_type": "code",
   "metadata": {
    "cell_id": "04a6786e-fd39-4b41-b85c-0ecae003e4db",
    "tags": [],
    "deepnote_to_be_reexecuted": false,
    "source_hash": "b623e53d",
    "execution_start": 1645847812810,
    "execution_millis": 14002075,
    "deepnote_cell_type": "code",
    "deepnote_cell_height": 81
   },
   "source": "",
   "execution_count": null,
   "outputs": []
  },
  {
   "cell_type": "markdown",
   "source": "### 12. Pregunta",
   "metadata": {
    "cell_id": "d5a17c31-5e8f-4d67-9679-c5705053de69",
    "tags": [],
    "deepnote_cell_type": "markdown",
    "deepnote_cell_height": 62
   }
  },
  {
   "cell_type": "code",
   "metadata": {
    "cell_id": "b168ad4f-adf7-4f82-9126-461a1fc64b84",
    "tags": [],
    "deepnote_to_be_reexecuted": false,
    "source_hash": "b623e53d",
    "execution_start": 1645847812812,
    "execution_millis": 14002072,
    "deepnote_cell_type": "code",
    "deepnote_cell_height": 81
   },
   "source": "",
   "execution_count": null,
   "outputs": []
  },
  {
   "cell_type": "markdown",
   "source": "<a style='text-decoration:none;line-height:16px;display:flex;color:#5B5B62;padding:10px;justify-content:end;' href='https://deepnote.com?utm_source=created-in-deepnote-cell&projectId=4c61d62b-04a5-459c-8181-ce7204eec77e' target=\"_blank\">\n<img alt='Created in deepnote.com' style='display:inline;max-height:16px;margin:0px;margin-right:7.5px;' src='data:image/svg+xml;base64,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' > </img>\nCreated in <span style='font-weight:600;margin-left:4px;'>Deepnote</span></a>",
   "metadata": {
    "tags": [],
    "created_in_deepnote_cell": true,
    "deepnote_cell_type": "markdown"
   }
  }
 ],
 "nbformat": 4,
 "nbformat_minor": 2,
 "metadata": {
  "orig_nbformat": 2,
  "deepnote": {
   "is_reactive": false
  },
  "deepnote_notebook_id": "85b76ea9-ace4-4c85-8b21-59120be91703",
  "deepnote_execution_queue": []
 }
}